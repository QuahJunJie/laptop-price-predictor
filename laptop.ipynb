{
 "cells": [
  {
   "cell_type": "code",
   "execution_count": 247,
   "id": "8ff7b7e4",
   "metadata": {},
   "outputs": [],
   "source": [
    "#Data handling\n",
    "import pandas as pd\n",
    "import numpy as np\n",
    "\n",
    "#Visualization\n",
    "import matplotlib.pyplot as plt\n",
    "import seaborn as sns\n",
    "\n",
    "#Machine Learning models\n",
    "from sklearn.linear_model import LinearRegression\n",
    "from sklearn.tree import DecisionTreeRegressor\n",
    "from sklearn.ensemble import GradientBoostingRegressor\n",
    "from sklearn.preprocessing import LabelEncoder, OneHotEncoder\n",
    "from sklearn.preprocessing import MinMaxScaler, StandardScaler\n",
    "from sklearn.model_selection import train_test_split\n",
    "from sklearn.metrics import mean_squared_error\n",
    "from sklearn.ensemble import RandomForestRegressor\n",
    "from sklearn.metrics import r2_score\n",
    "\n",
    "#Model evaluation (regression metrics)\n",
    "from sklearn.metrics import mean_absolute_error, mean_squared_error, r2_score\n",
    "from sklearn.model_selection import GridSearchCV, train_test_split\n",
    "\n",
    "\n",
    "#Optional (if needed for deployment or future predictions)\n",
    "import joblib\n"
   ]
  },
  {
   "cell_type": "code",
   "execution_count": 248,
   "id": "30453a5c",
   "metadata": {},
   "outputs": [
    {
     "data": {
      "text/html": [
       "<div>\n",
       "<style scoped>\n",
       "    .dataframe tbody tr th:only-of-type {\n",
       "        vertical-align: middle;\n",
       "    }\n",
       "\n",
       "    .dataframe tbody tr th {\n",
       "        vertical-align: top;\n",
       "    }\n",
       "\n",
       "    .dataframe thead th {\n",
       "        text-align: right;\n",
       "    }\n",
       "</style>\n",
       "<table border=\"1\" class=\"dataframe\">\n",
       "  <thead>\n",
       "    <tr style=\"text-align: right;\">\n",
       "      <th></th>\n",
       "      <th>Unnamed: 0</th>\n",
       "      <th>Model</th>\n",
       "      <th>Price</th>\n",
       "      <th>Rating</th>\n",
       "      <th>Generation</th>\n",
       "      <th>Core</th>\n",
       "      <th>Ram</th>\n",
       "      <th>SSD</th>\n",
       "      <th>Display</th>\n",
       "      <th>Graphics</th>\n",
       "      <th>OS</th>\n",
       "      <th>Warranty</th>\n",
       "    </tr>\n",
       "  </thead>\n",
       "  <tbody>\n",
       "    <tr>\n",
       "      <th>38</th>\n",
       "      <td>38</td>\n",
       "      <td>Samsung Galaxy Book 4 Pro 360 Laptop (Intel Co...</td>\n",
       "      <td>₹1,99,990</td>\n",
       "      <td>72.0</td>\n",
       "      <td>Intel Core Ultra 7 Series 1 155H</td>\n",
       "      <td>16 Cores (6P + 8E + 2LP-E), 22 Threads</td>\n",
       "      <td>16 GB LPDDR5X RAM</td>\n",
       "      <td>512 GB SSD</td>\n",
       "      <td>16 inches, 2880 x 1800 pixels, Touch Screen</td>\n",
       "      <td>Intel Arc Graphics</td>\n",
       "      <td>Windows 11 OS</td>\n",
       "      <td>1 Year Warranty</td>\n",
       "    </tr>\n",
       "  </tbody>\n",
       "</table>\n",
       "</div>"
      ],
      "text/plain": [
       "    Unnamed: 0                                              Model      Price  \\\n",
       "38          38  Samsung Galaxy Book 4 Pro 360 Laptop (Intel Co...  ₹1,99,990   \n",
       "\n",
       "    Rating                        Generation  \\\n",
       "38    72.0  Intel Core Ultra 7 Series 1 155H   \n",
       "\n",
       "                                      Core                Ram         SSD  \\\n",
       "38  16 Cores (6P + 8E + 2LP-E), 22 Threads  16 GB LPDDR5X RAM  512 GB SSD   \n",
       "\n",
       "                                        Display            Graphics  \\\n",
       "38  16 inches, 2880 x 1800 pixels, Touch Screen  Intel Arc Graphics   \n",
       "\n",
       "               OS         Warranty  \n",
       "38  Windows 11 OS  1 Year Warranty  "
      ]
     },
     "execution_count": 248,
     "metadata": {},
     "output_type": "execute_result"
    }
   ],
   "source": [
    "# Load data\n",
    "df = pd.read_csv(\"laptop.csv\")\n",
    "df.sample()\n"
   ]
  },
  {
   "cell_type": "code",
   "execution_count": 249,
   "id": "0ac216c6",
   "metadata": {},
   "outputs": [],
   "source": [
    "#droping unnecessary column\n",
    "df = df.drop('Unnamed: 0', axis=1)"
   ]
  },
  {
   "cell_type": "code",
   "execution_count": 250,
   "id": "79c26217",
   "metadata": {},
   "outputs": [
    {
     "data": {
      "text/html": [
       "<div>\n",
       "<style scoped>\n",
       "    .dataframe tbody tr th:only-of-type {\n",
       "        vertical-align: middle;\n",
       "    }\n",
       "\n",
       "    .dataframe tbody tr th {\n",
       "        vertical-align: top;\n",
       "    }\n",
       "\n",
       "    .dataframe thead th {\n",
       "        text-align: right;\n",
       "    }\n",
       "</style>\n",
       "<table border=\"1\" class=\"dataframe\">\n",
       "  <thead>\n",
       "    <tr style=\"text-align: right;\">\n",
       "      <th></th>\n",
       "      <th>Model</th>\n",
       "      <th>Price</th>\n",
       "      <th>Rating</th>\n",
       "      <th>Generation</th>\n",
       "      <th>Core</th>\n",
       "      <th>Ram</th>\n",
       "      <th>SSD</th>\n",
       "      <th>Display</th>\n",
       "      <th>Graphics</th>\n",
       "      <th>OS</th>\n",
       "      <th>Warranty</th>\n",
       "    </tr>\n",
       "  </thead>\n",
       "  <tbody>\n",
       "    <tr>\n",
       "      <th>0</th>\n",
       "      <td>HP Victus 15-fb0157AX Gaming Laptop (AMD Ryzen...</td>\n",
       "      <td>₹50,399</td>\n",
       "      <td>70.0</td>\n",
       "      <td>5th Gen AMD Ryzen 5 5600H</td>\n",
       "      <td>Hexa Core, 12 Threads</td>\n",
       "      <td>8 GB DDR4 RAM</td>\n",
       "      <td>512 GB SSD</td>\n",
       "      <td>15.6 inches, 1920 x 1080 pixels, Touch Screen</td>\n",
       "      <td>4 GB AMD Radeon RX 6500M</td>\n",
       "      <td>Windows 11 OS</td>\n",
       "      <td>1 Year Warranty</td>\n",
       "    </tr>\n",
       "    <tr>\n",
       "      <th>1</th>\n",
       "      <td>Tecno Megabook T1 Laptop (11th Gen Core i3/ 8G...</td>\n",
       "      <td>₹23,990</td>\n",
       "      <td>56.0</td>\n",
       "      <td>11th Gen Intel Core i3 1115G4</td>\n",
       "      <td>Dual Core, 4 Threads</td>\n",
       "      <td>8 GB LPDDR4 RAM</td>\n",
       "      <td>512 GB SSD</td>\n",
       "      <td>15.6 inches, 1920 x 1080 pixels</td>\n",
       "      <td>Intel UHD Graphics</td>\n",
       "      <td>Windows 11 OS</td>\n",
       "      <td>1 Year Warranty</td>\n",
       "    </tr>\n",
       "    <tr>\n",
       "      <th>2</th>\n",
       "      <td>Lenovo V15 G4 ‎82YU00W7IN Laptop (AMD Ryzen 3 ...</td>\n",
       "      <td>₹26,989</td>\n",
       "      <td>55.0</td>\n",
       "      <td>7th Gen AMD Ryzen 3 7320U</td>\n",
       "      <td>Quad Core, 8 Threads</td>\n",
       "      <td>8 GB LPDDR5 RAM</td>\n",
       "      <td>512 GB SSD</td>\n",
       "      <td>15.6 inches, 1920 x 1080 pixels</td>\n",
       "      <td>AMD Radeon Graphics</td>\n",
       "      <td>Windows 11 OS</td>\n",
       "      <td>1 Year Warranty</td>\n",
       "    </tr>\n",
       "    <tr>\n",
       "      <th>3</th>\n",
       "      <td>Samsung Galaxy Book2 Pro 13 Laptop (12th Gen C...</td>\n",
       "      <td>₹69,990</td>\n",
       "      <td>60.0</td>\n",
       "      <td>12th Gen Intel Core i5 1240P</td>\n",
       "      <td>12 Cores (4P + 8E), 16 Threads</td>\n",
       "      <td>16 GB LPDDR5 RAM</td>\n",
       "      <td>512 GB SSD</td>\n",
       "      <td>13.3 inches, 1080 x 1920 pixels</td>\n",
       "      <td>Intel Iris Xe Graphics</td>\n",
       "      <td>Windows 11 OS</td>\n",
       "      <td>1 Year Warranty</td>\n",
       "    </tr>\n",
       "    <tr>\n",
       "      <th>4</th>\n",
       "      <td>Xiaomi Redmi G Pro 2024 Gaming Laptop (14th Ge...</td>\n",
       "      <td>₹1,02,990</td>\n",
       "      <td>78.0</td>\n",
       "      <td>14th Gen Intel Core i9 14900HX</td>\n",
       "      <td>24 Cores (8P + 16E), 32 Threads</td>\n",
       "      <td>16 GB DDR5 RAM</td>\n",
       "      <td>1 TB SSD</td>\n",
       "      <td>16.1 inches, 2560 x 1600 pixels</td>\n",
       "      <td>8 GB NVIDIA GeForce RTX 4060</td>\n",
       "      <td>Windows 11 OS</td>\n",
       "      <td>1 Year Warranty</td>\n",
       "    </tr>\n",
       "  </tbody>\n",
       "</table>\n",
       "</div>"
      ],
      "text/plain": [
       "                                               Model      Price  Rating  \\\n",
       "0  HP Victus 15-fb0157AX Gaming Laptop (AMD Ryzen...    ₹50,399    70.0   \n",
       "1  Tecno Megabook T1 Laptop (11th Gen Core i3/ 8G...    ₹23,990    56.0   \n",
       "2  Lenovo V15 G4 ‎82YU00W7IN Laptop (AMD Ryzen 3 ...    ₹26,989    55.0   \n",
       "3  Samsung Galaxy Book2 Pro 13 Laptop (12th Gen C...    ₹69,990    60.0   \n",
       "4  Xiaomi Redmi G Pro 2024 Gaming Laptop (14th Ge...  ₹1,02,990    78.0   \n",
       "\n",
       "                       Generation                             Core  \\\n",
       "0       5th Gen AMD Ryzen 5 5600H            Hexa Core, 12 Threads   \n",
       "1   11th Gen Intel Core i3 1115G4             Dual Core, 4 Threads   \n",
       "2       7th Gen AMD Ryzen 3 7320U             Quad Core, 8 Threads   \n",
       "3    12th Gen Intel Core i5 1240P   12 Cores (4P + 8E), 16 Threads   \n",
       "4  14th Gen Intel Core i9 14900HX  24 Cores (8P + 16E), 32 Threads   \n",
       "\n",
       "                Ram         SSD  \\\n",
       "0     8 GB DDR4 RAM  512 GB SSD   \n",
       "1   8 GB LPDDR4 RAM  512 GB SSD   \n",
       "2   8 GB LPDDR5 RAM  512 GB SSD   \n",
       "3  16 GB LPDDR5 RAM  512 GB SSD   \n",
       "4    16 GB DDR5 RAM    1 TB SSD   \n",
       "\n",
       "                                         Display  \\\n",
       "0  15.6 inches, 1920 x 1080 pixels, Touch Screen   \n",
       "1                15.6 inches, 1920 x 1080 pixels   \n",
       "2                15.6 inches, 1920 x 1080 pixels   \n",
       "3                13.3 inches, 1080 x 1920 pixels   \n",
       "4                16.1 inches, 2560 x 1600 pixels   \n",
       "\n",
       "                       Graphics             OS         Warranty  \n",
       "0      4 GB AMD Radeon RX 6500M  Windows 11 OS  1 Year Warranty  \n",
       "1            Intel UHD Graphics  Windows 11 OS  1 Year Warranty  \n",
       "2           AMD Radeon Graphics  Windows 11 OS  1 Year Warranty  \n",
       "3        Intel Iris Xe Graphics  Windows 11 OS  1 Year Warranty  \n",
       "4  8 GB NVIDIA GeForce RTX 4060  Windows 11 OS  1 Year Warranty  "
      ]
     },
     "execution_count": 250,
     "metadata": {},
     "output_type": "execute_result"
    }
   ],
   "source": [
    "df.head()\n"
   ]
  },
  {
   "cell_type": "code",
   "execution_count": 251,
   "id": "1673eb5b",
   "metadata": {},
   "outputs": [
    {
     "data": {
      "text/html": [
       "<div>\n",
       "<style scoped>\n",
       "    .dataframe tbody tr th:only-of-type {\n",
       "        vertical-align: middle;\n",
       "    }\n",
       "\n",
       "    .dataframe tbody tr th {\n",
       "        vertical-align: top;\n",
       "    }\n",
       "\n",
       "    .dataframe thead th {\n",
       "        text-align: right;\n",
       "    }\n",
       "</style>\n",
       "<table border=\"1\" class=\"dataframe\">\n",
       "  <thead>\n",
       "    <tr style=\"text-align: right;\">\n",
       "      <th></th>\n",
       "      <th>Model</th>\n",
       "      <th>Price</th>\n",
       "      <th>Rating</th>\n",
       "      <th>Generation</th>\n",
       "      <th>Core</th>\n",
       "      <th>Ram</th>\n",
       "      <th>SSD</th>\n",
       "      <th>Display</th>\n",
       "      <th>Graphics</th>\n",
       "      <th>OS</th>\n",
       "      <th>Warranty</th>\n",
       "    </tr>\n",
       "  </thead>\n",
       "  <tbody>\n",
       "    <tr>\n",
       "      <th>915</th>\n",
       "      <td>Asus Vivobook 16X 2023 K3605ZF-MB541WS Laptop ...</td>\n",
       "      <td>₹64,990</td>\n",
       "      <td>68.0</td>\n",
       "      <td>12th Gen Intel Core i5 12450H</td>\n",
       "      <td>Octa Core (4P + 4E), 12 Threads</td>\n",
       "      <td>16 GB DDR4 RAM</td>\n",
       "      <td>512 GB SSD</td>\n",
       "      <td>16 inches, 1920 x 1200 pixels</td>\n",
       "      <td>4 GB NVIDIA GeForce RTX 2050</td>\n",
       "      <td>Windows 11 OS</td>\n",
       "      <td>1 Year Warranty</td>\n",
       "    </tr>\n",
       "    <tr>\n",
       "      <th>916</th>\n",
       "      <td>Asus TUF Gaming A15 2023 FA577XV-HQ036WS Gamin...</td>\n",
       "      <td>₹1,54,990</td>\n",
       "      <td>NaN</td>\n",
       "      <td>7th Gen AMD Ryzen 9 7940HS</td>\n",
       "      <td>Octa Core, 16 Threads</td>\n",
       "      <td>16 GB DDR5 RAM</td>\n",
       "      <td>1 TB SSD</td>\n",
       "      <td>15.6 inches, 2560 x 1440 pixels</td>\n",
       "      <td>8 GB NVIDIA GeForce RTX 4060</td>\n",
       "      <td>Windows 11 OS</td>\n",
       "      <td>1 Year Warranty</td>\n",
       "    </tr>\n",
       "    <tr>\n",
       "      <th>917</th>\n",
       "      <td>Acer Aspire 5 A514-56GM Gaming Laptop (13th Ge...</td>\n",
       "      <td>₹69,990</td>\n",
       "      <td>62.0</td>\n",
       "      <td>13th Gen Intel Core i7 1355U</td>\n",
       "      <td>10 Cores (2P + 8E), 12 Threads</td>\n",
       "      <td>8 GB DDR4 RAM</td>\n",
       "      <td>512 GB SSD</td>\n",
       "      <td>14 inches, 1920 x 1080 pixels</td>\n",
       "      <td>4 GB NVIDIA GeForce RTX 2050</td>\n",
       "      <td>Windows 11 OS</td>\n",
       "      <td>1 Year Warranty</td>\n",
       "    </tr>\n",
       "    <tr>\n",
       "      <th>918</th>\n",
       "      <td>Lenovo IdeaPad Slim 5 82FG01B3IN Laptop (11th ...</td>\n",
       "      <td>₹54,900</td>\n",
       "      <td>63.0</td>\n",
       "      <td>11th Gen Intel Core i5 1135G7</td>\n",
       "      <td>Quad Core, 8 Threads</td>\n",
       "      <td>16 GB DDR4 RAM</td>\n",
       "      <td>512 GB SSD</td>\n",
       "      <td>15.6 inches, 1920 x 1080 pixels</td>\n",
       "      <td>Intel Iris Xe Graphics</td>\n",
       "      <td>Windows 11 OS</td>\n",
       "      <td>1 Year Warranty</td>\n",
       "    </tr>\n",
       "    <tr>\n",
       "      <th>919</th>\n",
       "      <td>MSI Bravo 15 B5ED-034IN Gaming Laptop (AMD Ryz...</td>\n",
       "      <td>₹59,990</td>\n",
       "      <td>66.0</td>\n",
       "      <td>5th Gen AMD Ryzen 7 5800H</td>\n",
       "      <td>Octa Core, 16 Threads</td>\n",
       "      <td>8 GB DDR4 RAM</td>\n",
       "      <td>512 GB SSD</td>\n",
       "      <td>15.6 inches, 1920 x 1080 pixels</td>\n",
       "      <td>4 GB AMD Radeon RX6500M</td>\n",
       "      <td>Windows 11 OS</td>\n",
       "      <td>1 Year Warranty</td>\n",
       "    </tr>\n",
       "  </tbody>\n",
       "</table>\n",
       "</div>"
      ],
      "text/plain": [
       "                                                 Model      Price  Rating  \\\n",
       "915  Asus Vivobook 16X 2023 K3605ZF-MB541WS Laptop ...    ₹64,990    68.0   \n",
       "916  Asus TUF Gaming A15 2023 FA577XV-HQ036WS Gamin...  ₹1,54,990     NaN   \n",
       "917  Acer Aspire 5 A514-56GM Gaming Laptop (13th Ge...    ₹69,990    62.0   \n",
       "918  Lenovo IdeaPad Slim 5 82FG01B3IN Laptop (11th ...    ₹54,900    63.0   \n",
       "919  MSI Bravo 15 B5ED-034IN Gaming Laptop (AMD Ryz...    ₹59,990    66.0   \n",
       "\n",
       "                        Generation                             Core  \\\n",
       "915  12th Gen Intel Core i5 12450H  Octa Core (4P + 4E), 12 Threads   \n",
       "916     7th Gen AMD Ryzen 9 7940HS            Octa Core, 16 Threads   \n",
       "917   13th Gen Intel Core i7 1355U   10 Cores (2P + 8E), 12 Threads   \n",
       "918  11th Gen Intel Core i5 1135G7             Quad Core, 8 Threads   \n",
       "919      5th Gen AMD Ryzen 7 5800H            Octa Core, 16 Threads   \n",
       "\n",
       "                Ram         SSD                          Display  \\\n",
       "915  16 GB DDR4 RAM  512 GB SSD    16 inches, 1920 x 1200 pixels   \n",
       "916  16 GB DDR5 RAM    1 TB SSD  15.6 inches, 2560 x 1440 pixels   \n",
       "917   8 GB DDR4 RAM  512 GB SSD    14 inches, 1920 x 1080 pixels   \n",
       "918  16 GB DDR4 RAM  512 GB SSD  15.6 inches, 1920 x 1080 pixels   \n",
       "919   8 GB DDR4 RAM  512 GB SSD  15.6 inches, 1920 x 1080 pixels   \n",
       "\n",
       "                          Graphics             OS         Warranty  \n",
       "915   4 GB NVIDIA GeForce RTX 2050  Windows 11 OS  1 Year Warranty  \n",
       "916  8 GB NVIDIA GeForce RTX 4060   Windows 11 OS  1 Year Warranty  \n",
       "917   4 GB NVIDIA GeForce RTX 2050  Windows 11 OS  1 Year Warranty  \n",
       "918         Intel Iris Xe Graphics  Windows 11 OS  1 Year Warranty  \n",
       "919        4 GB AMD Radeon RX6500M  Windows 11 OS  1 Year Warranty  "
      ]
     },
     "execution_count": 251,
     "metadata": {},
     "output_type": "execute_result"
    }
   ],
   "source": [
    "df.tail()\n"
   ]
  },
  {
   "cell_type": "code",
   "execution_count": 252,
   "id": "5defe307",
   "metadata": {},
   "outputs": [
    {
     "data": {
      "text/plain": [
       "Index(['Model', 'Price', 'Rating', 'Generation', 'Core', 'Ram', 'SSD',\n",
       "       'Display', 'Graphics', 'OS', 'Warranty'],\n",
       "      dtype='object')"
      ]
     },
     "execution_count": 252,
     "metadata": {},
     "output_type": "execute_result"
    }
   ],
   "source": [
    "#verifying after renaming\n",
    "df.columns\n"
   ]
  },
  {
   "cell_type": "code",
   "execution_count": 253,
   "id": "b01cb4a5",
   "metadata": {},
   "outputs": [
    {
     "data": {
      "text/plain": [
       "Model          object\n",
       "Price          object\n",
       "Rating        float64\n",
       "Generation     object\n",
       "Core           object\n",
       "Ram            object\n",
       "SSD            object\n",
       "Display        object\n",
       "Graphics       object\n",
       "OS             object\n",
       "Warranty       object\n",
       "dtype: object"
      ]
     },
     "execution_count": 253,
     "metadata": {},
     "output_type": "execute_result"
    }
   ],
   "source": [
    "#datatypes of each column\n",
    "df.dtypes"
   ]
  },
  {
   "cell_type": "code",
   "execution_count": 254,
   "id": "e452dbee",
   "metadata": {},
   "outputs": [
    {
     "data": {
      "text/plain": [
       "(920, 11)"
      ]
     },
     "execution_count": 254,
     "metadata": {},
     "output_type": "execute_result"
    }
   ],
   "source": [
    "# checking rows and column of data\n",
    "df.shape"
   ]
  },
  {
   "cell_type": "code",
   "execution_count": 255,
   "id": "62543e17",
   "metadata": {},
   "outputs": [
    {
     "data": {
      "text/plain": [
       "np.int64(0)"
      ]
     },
     "execution_count": 255,
     "metadata": {},
     "output_type": "execute_result"
    }
   ],
   "source": [
    "# checks for any duplicate rows in the DataFrame\n",
    "df.duplicated().sum()"
   ]
  },
  {
   "cell_type": "code",
   "execution_count": 256,
   "id": "eb561604",
   "metadata": {},
   "outputs": [
    {
     "data": {
      "text/plain": [
       "Model           0\n",
       "Price           0\n",
       "Rating        152\n",
       "Generation      0\n",
       "Core            0\n",
       "Ram             0\n",
       "SSD             0\n",
       "Display         1\n",
       "Graphics        0\n",
       "OS              1\n",
       "Warranty        5\n",
       "dtype: int64"
      ]
     },
     "execution_count": 256,
     "metadata": {},
     "output_type": "execute_result"
    }
   ],
   "source": [
    "#checks for null values in the dataset\n",
    "df.isnull().sum()"
   ]
  },
  {
   "cell_type": "code",
   "execution_count": 257,
   "id": "7ee914e9",
   "metadata": {},
   "outputs": [],
   "source": [
    "#filling of null value in dataset\n",
    "df['OS'] = df['OS'].fillna(\"Unknown\")\n",
    "df['Display'] = df['Display'].fillna(\"Unknown\")\n",
    "df['Warranty'] = df['Warranty'].fillna(\"Unknown\")"
   ]
  },
  {
   "cell_type": "code",
   "execution_count": 258,
   "id": "cb32dde1",
   "metadata": {},
   "outputs": [],
   "source": [
    "#filling of missing values with mean\n",
    "df['Rating'] = df['Rating'].fillna(df['Rating'].mean())"
   ]
  },
  {
   "cell_type": "code",
   "execution_count": 259,
   "id": "b82b6205",
   "metadata": {},
   "outputs": [],
   "source": [
    "#Making new colume for price\n",
    "df['price_float'] = df['Price'].str.replace('[₹,]', '', regex=True).astype('float64')\n"
   ]
  },
  {
   "cell_type": "code",
   "execution_count": 260,
   "id": "c2f0006b",
   "metadata": {},
   "outputs": [
    {
     "name": "stdout",
     "output_type": "stream",
     "text": [
      "          Warranty  warranty_int\n",
      "0  1 Year Warranty             1\n",
      "1  1 Year Warranty             1\n",
      "2  1 Year Warranty             1\n",
      "3  1 Year Warranty             1\n",
      "4  1 Year Warranty             1\n"
     ]
    },
    {
     "name": "stderr",
     "output_type": "stream",
     "text": [
      "<>:2: SyntaxWarning: invalid escape sequence '\\d'\n",
      "<>:2: SyntaxWarning: invalid escape sequence '\\d'\n",
      "C:\\Users\\junji\\AppData\\Local\\Temp\\ipykernel_2984\\3331466637.py:2: SyntaxWarning: invalid escape sequence '\\d'\n",
      "  df['warranty_int'] = df['Warranty'].str.extract('(\\d+)', expand=False).fillna(0).astype('int64')\n"
     ]
    }
   ],
   "source": [
    "#Making new column for Warranty in int format\n",
    "df['warranty_int'] = df['Warranty'].str.extract('(\\d+)', expand=False).fillna(0).astype('int64')\n",
    "\n",
    "print(df[['Warranty', 'warranty_int']].head())"
   ]
  },
  {
   "cell_type": "code",
   "execution_count": 261,
   "id": "f856bf96",
   "metadata": {},
   "outputs": [
    {
     "name": "stdout",
     "output_type": "stream",
     "text": [
      "All unique values in Price\n",
      "\n",
      "['₹50,399' '₹23,990' '₹26,989' '₹69,990' '₹1,02,990' '₹35,990' '₹79,990'\n",
      " '₹42,990' '₹54,990' '₹56,490' '₹24,990' '₹32,990' '₹52,990' '₹81,990'\n",
      " '₹1,14,900' '₹33,790' '₹26,749' '₹99,900' '₹75,990' '₹38,990' '₹49,990'\n",
      " '₹79,999' '₹1,32,490' '₹96,990' '₹55,490' '₹43,490' '₹44,990' '₹1,33,999'\n",
      " '₹47,990' '₹1,75,999' '₹96,999' '₹61,990' '₹34,990' '₹85,990' '₹84,990'\n",
      " '₹1,99,990' '₹33,600' '₹27,990' '₹79,899' '₹77,990' '₹59,990' '₹86,990'\n",
      " '₹19,979' '₹99,990' '₹1,12,990' '₹69,999' '₹72,990' '₹70,990' '₹67,990'\n",
      " '₹3,29,990' '₹1,46,990' '₹1,74,999' '₹55,390' '₹46,990' '₹1,35,999'\n",
      " '₹34,880' '₹1,38,990' '₹5,99,990' '₹53,490' '₹2,99,999' '₹65,690'\n",
      " '₹89,999' '₹3,99,900' '₹39,990' '₹84,700' '₹36,349' '₹43,990' '₹53,990'\n",
      " '₹48,990' '₹19,990' '₹89,990' '₹18,990' '₹36,890' '₹74,990' '₹57,990'\n",
      " '₹1,12,500' '₹68,990' '₹25,580' '₹37,990' '₹94,990' '₹46,490' '₹1,08,000'\n",
      " '₹46,890' '₹55,200' '₹31,990' '₹8,000' '₹1,62,990' '₹74,490' '₹65,990'\n",
      " '₹2,97,758' '₹1,39,990' '₹1,09,990' '₹1,29,990' '₹1,08,999' '₹1,19,990'\n",
      " '₹1,54,900' '₹1,33,553' '₹1,34,900' '₹1,74,900' '₹1,97,990' '₹3,49,990'\n",
      " '₹1,63,990' '₹1,22,990' '₹1,14,990' '₹1,79,990' '₹49,499' '₹1,71,990'\n",
      " '₹1,31,990' '₹1,41,990' '₹1,49,990' '₹1,81,990' '₹76,990' '₹25,990'\n",
      " '₹60,799' '₹58,490' '₹36,990' '₹24,900' '₹53,799' '₹33,990' '₹35,490'\n",
      " '₹1,29,900' '₹3,20,690' '₹1,86,899' '₹98,790' '₹24,790' '₹1,54,990'\n",
      " '₹34,821' '₹60,999' '₹63,700' '₹71,990' '₹52,499' '₹29,990' '₹41,990'\n",
      " '₹1,04,990' '₹60,200' '₹12,990' '₹72,490' '₹37,890' '₹64,990' '₹62,842'\n",
      " '₹27,799' '₹52,999' '₹1,13,690' '₹4,89,883' '₹1,95,999' '₹99,890'\n",
      " '₹72,000' '₹73,776' '₹1,84,999' '₹63,490' '₹53,390' '₹1,20,490' '₹87,990'\n",
      " '₹30,700' '₹37,490' '₹2,29,990' '₹1,07,990' '₹2,99,990' '₹91,990'\n",
      " '₹2,49,990' '₹2,79,990' '₹1,05,990' '₹1,10,709' '₹21,990' '₹70,490'\n",
      " '₹97,990' '₹58,990' '₹1,89,990' '₹73,882' '₹35,500' '₹1,69,990' '₹78,990'\n",
      " '₹1,59,990' '₹2,89,990' '₹60,490' '₹1,02,900' '₹73,990' '₹55,990'\n",
      " '₹79,799' '₹1,95,990' '₹38,249' '₹1,15,999' '₹1,01,990' '₹28,190'\n",
      " '₹15,990' '₹17,990' '₹59,390' '₹58,500' '₹51,990' '₹52,500' '₹26,990'\n",
      " '₹1,74,490' '₹49,199' '₹1,76,499' '₹20,990' '₹73,223' '₹32,971'\n",
      " '₹1,45,000' '₹59,490' '₹82,490' '₹1,87,490' '₹80,640' '₹1,51,490'\n",
      " '₹1,13,999' '₹1,99,999' '₹45,990' '₹48,900' '₹49,999' '₹40,490'\n",
      " '₹1,49,900' '₹63,500' '₹81,999' '₹81,400' '₹62,490' '₹80,999' '₹34,450'\n",
      " '₹26,490' '₹35,999' '₹51,980' '₹87,190' '₹56,990' '₹74,190' '₹14,999'\n",
      " '₹67,900' '₹31,500' '₹5,19,990' '₹50,000' '₹2,18,990' '₹30,834' '₹45,200'\n",
      " '₹42,490' '₹19,299' '₹2,89,900' '₹1,76,490' '₹2,24,990' '₹2,30,590'\n",
      " '₹2,89,690' '₹50,790' '₹1,23,190' '₹58,900' '₹50,390' '₹20,035'\n",
      " '₹1,54,999' '₹1,06,590' '₹79,000' '₹97,300' '₹48,989' '₹94,490' '₹59,900'\n",
      " '₹58,999' '₹38,790' '₹88,990' '₹52,850' '₹1,24,999' '₹50,490' '₹52,400'\n",
      " '₹66,990' '₹1,03,990' '₹1,84,990' '₹91,190' '₹32,790' '₹1,32,190'\n",
      " '₹40,990' '₹62,950' '₹32,290' '₹16,490' '₹75,000' '₹62,999' '₹45,890'\n",
      " '₹33,900' '₹53,499' '₹22,490' '₹54,490' '₹48,490' '₹13,990' '₹36,490'\n",
      " '₹3,39,999' '₹11,990' '₹63,990' '₹1,51,990' '₹1,61,445' '₹80,990'\n",
      " '₹80,190' '₹1,09,190' '₹59,290' '₹1,06,000' '₹39,790' '₹1,64,190'\n",
      " '₹2,98,990' '₹1,03,395' '₹72,190' '₹1,39,190' '₹4,09,990' '₹87,774'\n",
      " '₹1,14,190' '₹61,712' '₹32,500' '₹50,712' '₹83,990' '₹32,000' '₹95,689'\n",
      " '₹89,900' '₹44,890' '₹63,889' '₹90,000' '₹21,290' '₹55,700' '₹28,990'\n",
      " '₹2,19,990' '₹92,990' '₹43,590' '₹64,490' '₹62,990' '₹66,450' '₹35,232'\n",
      " '₹1,24,000' '₹47,490' '₹50,990' '₹35,499' '₹86,190' '₹22,000' '₹1,28,990'\n",
      " '₹97,000' '₹1,04,900' '₹1,30,990' '₹4,15,000' '₹27,490' '₹59,806'\n",
      " '₹62,500' '₹94,190' '₹23,999' '₹62,190' '₹82,990' '₹57,890' '₹3,99,999'\n",
      " '₹40,739' '₹25,751' '₹14,990' '₹1,30,000' '₹46,150' '₹59,190' '₹69,190'\n",
      " '₹59,690' '₹61,190' '₹41,290' '₹43,400' '₹34,000' '₹1,53,490' '₹57,400'\n",
      " '₹54,010' '₹70,190' '₹2,78,490' '₹67,190' '₹85,190' '₹84,190' '₹36,500'\n",
      " '₹51,000' '₹38,490' '₹1,05,999' '₹87,490' '₹68,999' '₹1,10,990' '₹90,990'\n",
      " '₹1,83,990' '₹1,34,990' '₹2,37,990' '₹1,09,490' '₹56,190' '₹2,31,746'\n",
      " '₹32,999' '₹69,000' '₹54,559' '₹36,790' '₹2,84,990' '₹1,00,190'\n",
      " '₹1,16,990' '₹1,26,499' '₹3,44,990' '₹1,13,090' '₹48,981' '₹34,849'\n",
      " '₹2,22,990' '₹89,490' '₹77,490' '₹64,799' '₹35,890' '₹1,48,990' '₹14,499'\n",
      " '₹1,50,000' '₹3,23,990' '₹4,53,990' '₹34,490' '₹1,99,290' '₹4,50,990'\n",
      " '₹40,999' '₹3,03,290' '₹40,300' '₹41,790' '₹42,600' '₹1,11,505' '₹41,400'\n",
      " '₹1,08,352' '₹1,26,494' '₹3,73,192' '₹2,92,347' '₹1,11,422' '₹96,700'\n",
      " '₹2,61,921' '₹3,90,914' '₹30,990' '₹2,46,815' '₹78,299' '₹1,17,899'\n",
      " '₹2,78,103' '₹1,52,499' '₹23,940' '₹78,980' '₹70,790' '₹86,730' '₹47,450'\n",
      " '₹52,000' '₹31,800' '₹69,345' '₹78,490' '₹88,490' '₹95,990' '₹86,490'\n",
      " '₹85,600' '₹98,990' '₹65,750' '₹51,290' '₹32,390' '₹1,17,000' '₹45,490'\n",
      " '₹44,437' '₹58,400' '₹1,15,558' '₹1,37,134' '₹1,45,999' '₹84,899'\n",
      " '₹46,400' '₹63,590' '₹83,500' '₹46,899' '₹47,999' '₹32,590' '₹31,899'\n",
      " '₹51,490' '₹95,000' '₹47,890' '₹38,900' '₹60,990' '₹3,55,490' '₹3,03,490'\n",
      " '₹2,02,490' '₹1,57,544' '₹2,86,200' '₹64,390' '₹1,42,190' '₹1,27,000'\n",
      " '₹89,799' '₹38,999' '₹58,800' '₹56,999' '₹54,189' '₹35,083' '₹95,590'\n",
      " '₹65,000' '₹32,490' '₹45,900' '₹27,130' '₹56,900' '₹1,66,490' '₹55,999'\n",
      " '₹2,10,990' '₹99,950' '₹1,56,990' '₹80,490' '₹1,31,590' '₹1,72,990'\n",
      " '₹67,890' '₹44,999' '₹63,220' '₹2,47,999' '₹62,687' '₹2,92,990' '₹59,700'\n",
      " '₹25,994' '₹1,07,399' '₹69,490' '₹1,78,490' '₹1,06,990' '₹1,22,638'\n",
      " '₹39,490' '₹55,800' '₹1,37,990' '₹88,999' '₹54,900']\n",
      "----------------------------------------\n",
      "\n",
      "########################################\n",
      "Total unique values / Total number of records\n",
      "########################################\n",
      "498/920\n"
     ]
    }
   ],
   "source": [
    "\n",
    "print('All unique values in Price')\n",
    "\n",
    "print()\n",
    "print(df['Price'].unique())\n",
    "print('-'*40)\n",
    "print()\n",
    "print('#'*40)\n",
    "print('Total unique values / Total number of records')\n",
    "print('#'*40)\n",
    "print(f'''{df['Price'].nunique()}/{df['Price'].shape[0]}''')"
   ]
  },
  {
   "cell_type": "code",
   "execution_count": 262,
   "id": "2a4783f0",
   "metadata": {},
   "outputs": [
    {
     "name": "stdout",
     "output_type": "stream",
     "text": [
      "All unique values in Generation column\n",
      "\n",
      "['5th Gen AMD Ryzen 5 5600H' '11th Gen Intel Core i3 1115G4'\n",
      " '7th Gen AMD Ryzen 3 7320U' '12th Gen Intel Core i5 1240P'\n",
      " '14th Gen Intel Core i9 14900HX' '12th Gen Intel Core i3 1215U'\n",
      " 'Apple M1' '12th Gen Intel Core i5 1235U' '7th Gen Amd Ryzen 5 7535HS'\n",
      " '11th Gen Intel Core i5 1135G7' '12th Gen Intel Core i5 12500H'\n",
      " '7th Gen AMD Ryzen 7 7840HS' 'Apple M3' '5th Gen AMD Ryzen 3 5300U'\n",
      " 'Apple M2' 'Intel Core 5 Processor Series 1 120U'\n",
      " '11th Gen Intel Core i5 11400H ' '5th Gen AMD Ryzen 7 5800U'\n",
      " '13th Gen Intel Core i7 1355U' 'Intel Core 3 Processor 100U'\n",
      " 'Intel Core Ultra 7 155U' 'Intel Core Ultra 7 Series 1 155H'\n",
      " 'Intel Core Ultra 5 125U' '12th Gen Intel Core i5 12450H'\n",
      " 'Intel Core 7 Processor Series 1 150U' '13th Gen Intel Core i5 13450HX'\n",
      " '6th Gen AMD Ryzen 9 6900HS\\u200b' '7th Gen AMD Ryzen 3 7330U'\n",
      " '11th Gen Intel Core i7 11800H' '13th Gen Intel Core i5 13420H'\n",
      " '12th Gen Intel Core i7 12650H' '3rd Gen AMD Athlon 3050U'\n",
      " '12th Gen Intel Core i7 12700H' '6th Gen AMD Ryzen 7  6800H'\n",
      " '7th Gen AMD Ryzen 7 7730U' 'Intel Core Ultra 5 Series 1 125H'\n",
      " '8th Gen AMD Ryzen 7 8840HS' '14th Gen Intel Core i7 14700HX'\n",
      " 'Intel Core Ultra 7 155H' 'Apple M3 Max' '12th Gen Intel Core i3 1220P'\n",
      " '13th Gen Intel Core i7 1360P' '13th Gen Intel Core i7 13650HX'\n",
      " '11th Gen Intel Core i5 1155G7' '12th Gen Intel Core i7 1255U'\n",
      " '11th Gen Intel Core i5 11260H' 'intel Celeron  N4020'\n",
      " '11th Gen Intel Celeron N5100' '7th Gen AMD Ryzen 5 7535HS'\n",
      " '5th Gen AMD Ryzen 5 5500U' '13th Gen Intel Core i9 13900H'\n",
      " '7th Gen AMD Ryzen 7 7735HS' '13th Gen Intel Core i7 13700HX'\n",
      " '3rd Gen AMD Ryzen 3 3250U' '7th Gen AMD Ryzen 5 7530U'\n",
      " '12th Gen Intel Core i5 1235U ' '5th Gen AMD Ryzen 7  5800H'\n",
      " '5th Gen AMD Ryzen 5 5600H '\n",
      " 'Processor: 12th Generation Intel Core i5-1235U processor (1.3 GHz up to 4.4 GHz 12 MB L3…'\n",
      " 'Intel Atom Quad Core Z3735F' 'Qualcomm X Elite'\n",
      " '8th Gen AMD Ryzen 7 8845HS' '11th Gen Intel Core i7 1165G7'\n",
      " 'Intel Pentium Gold 7505' '13th Gen Intel Core i5 1334U'\n",
      " '13th Gen Intel Core i5 1335U' '13th Gen Intel Core i3 1315U'\n",
      " '7th Gen AMD Ryzen 5 7520U' 'Intel Core i9 14900HX'\n",
      " '6th Gen AMD Ryzen 7 6800H' '13th Gen Intel Core i5 13500H'\n",
      " 'Apple M3 Pro' 'AMD Athlon Silver 7120U' '7th Gen AMD Ryzen 5 7520U '\n",
      " '11th Gen Intel Core i3 1125G4' '12th Gen Intel Core i7 12700H '\n",
      " '11th Gen intel Core i3 1115G4' '13th Gen Intel Core i7'\n",
      " '12th Gen Intel Core i5 12500H ' 'Intel Celeron  N4020'\n",
      " '13th Gen Intel Core i5 1340P' '11th Gen Intel Core i3  1115G4'\n",
      " '5th Gen AMD Ryzen 7 5800H' '5th Gen AMD Ryzen 5  5600H '\n",
      " '12th Gen Intel Core i9 12900HX' '6th Gen AMD Ryzen 7 6800H '\n",
      " '10th Gen Intel Core i7 10750H' '4th Gen Intel Celeron N4020'\n",
      " '7th Gen AMD Ryzen 7 7840U' '8th Gen AMD Ryzen 5 8640HS'\n",
      " '13th Gen Intel Core i7 13700H' 'Intel Core Ultra 9 Series 1 185H'\n",
      " 'Intel \\u200eCeleron N4020' '12th Gen Intel Celeron N100'\n",
      " '13th Gen Intel Core i7 13620H' '11th Gen Intel Core i5 11400H'\n",
      " '5th Gen AMD Ryzen 7 5700U' '13th Gen Intel Core i3 1305U'\n",
      " '10th Gen Intel Core i5 10210Y' 'Intel Pentium N100'\n",
      " 'MediaTek Kompanio 520 Kompanio 520' 'MediaTek Kompanio Kompanio 520'\n",
      " '12th Gen intel Core i5 12450HX' '12th Gen Intel N100 N100'\n",
      " '10th Gen Intel Core i5 1035G1' 'Intel Celeron N4020'\n",
      " '11th Gen Intel Core i5 L16G7' '13th Gen Intel Core i9 13900HX'\n",
      " '12th Gen intel Core i5 12450H' '11th Gen Intel Core i5 1135G7 '\n",
      " '5th Gen AMD Ryzen 5  5500U' '8th Gen Amd Ryzen 7 8845HS'\n",
      " 'HiSilicon  Kirin 9006C 9006C' '5th Gen AMD Ryzen 7  5700U' 'Octa Core'\n",
      " '13th Gen Intel Core i9 13980HX' 'Intel Core i3 N305'\n",
      " '12th Gen Intel Core i7 1260P' '5th Gen AMD Ryzen 5 5500H'\n",
      " '11th Gen Intel Core i5 11320H' '5th Gen AMD Ryzen 7 5800HS'\n",
      " '7th Gen AMD Ryzen 7  7730U' 'Intel Celeron  N4500'\n",
      " '12th Gen Intel Core i5 12450H ' 'Intel Celeron N4500' 'Intel   N4500'\n",
      " 'MediaTek MT8183' '7th Gen Amd Ryzen 7 7840H'\n",
      " '7th Gen AMD Ryzen 7 7745HX' '13th Gen Intel Core i9 13950HX'\n",
      " '6th Gen AMD Ryzen 7 6800HS ' '6th Gen AMD Ryzen 5 6600H'\n",
      " 'Intel Celeron Dual Core N4500' '5th Gen AMD Ryzen 5  5600H'\n",
      " '4th Gen AMD Ryzen 7 PRO 4750U' '5th Gen AMD Ryzen 5  5500H'\n",
      " 'AMD Athlon 7120U' '10th Gen Intel Core i3 1005G1'\n",
      " '13th Gen Intel Core i7 1355U ' '12th Gen Intel Core i7 1250U'\n",
      " '7th Gen AMD Ryzen 7 7735U' '5th Gen AMD Ryzen 5 5600HS'\n",
      " '3rd Gen AMD Ryzen 3  3250U' '10th Gen Intel Core i5 1035G4'\n",
      " '7th Gen Amd Ryzen 5 7520U' '13th Gen Intel Core i7 1365U'\n",
      " '10th Gen Intel Core i5 10210U' '11th Gen Intel Core i7 1195G7'\n",
      " ' Mediatek  MT8788' '5th Gen AMD Ryzen 7 5825U'\n",
      " '13th Gen Intel Core i9 13900HK' '7th Gen Amd Ryzen 7 7745HX'\n",
      " '7th Gen Amd Ryzen 9 7845HX' '12th Gen Intel Core i7 12650H '\n",
      " '12th Gen Intel Core i9 12900H' 'Intel Pentium Silver   N6000 '\n",
      " 'Intel Celeron  N4020 ' '6th Gen AMD Ryzen 7  7735HS'\n",
      " '11th Gen Intel Core i7 1165G7 ' '13th Gen \\u200eIntel Core i5 1335U'\n",
      " '5th Gen AMD Ryzen 7   5700U' '7th Gen AMD Ryzen 9 7940HS'\n",
      " '10th Gen Intel Core i7 10750H ' '7th Gen Amd Ryzen 5 7530U'\n",
      " '7th Gen Amd Ryzen 9 7940HS' '7th Gen AMD Ryzen 7  7735HS'\n",
      " '13th Gen Intel Core i5 1340p' '13th Gen Intel Core i5 13500H '\n",
      " '5th Gen AMD Ryzen 5  5500u' '12th Gen Intel Core i3 1215U '\n",
      " '13th Gen Intel Core i7 13700HX ' 'Intel Pentium Silver N6000'\n",
      " '7th Gen AMD Ryzen 7040 Series 040' '13th Gen Intel Core i9 13900HX '\n",
      " '13th Gen \\u200eIntel Core i3 1315U' '12th Gen Intel Core i5 1230U']\n",
      "----------------------------------------\n",
      "\n",
      "########################################\n",
      "Total unique values / Total number of records\n",
      "########################################\n",
      "176/920\n"
     ]
    }
   ],
   "source": [
    "\n",
    "print('All unique values in Generation column')\n",
    "\n",
    "print()\n",
    "print(df['Generation'].unique())\n",
    "print('-'*40)\n",
    "print()\n",
    "print('#'*40)\n",
    "print('Total unique values / Total number of records')\n",
    "print('#'*40)\n",
    "print(f'''{df['Generation'].nunique()}/{df['Generation'].shape[0]}''')"
   ]
  },
  {
   "cell_type": "code",
   "execution_count": 263,
   "id": "1b444552",
   "metadata": {},
   "outputs": [
    {
     "name": "stdout",
     "output_type": "stream",
     "text": [
      "All unique values in OS\n",
      "\n",
      "['Windows 11 OS' 'Mac OS' 'Windows 10 OS' 'DOS OS' 'Windows 11 Pro OS'\n",
      " '2 Year Warranty' 'Backlit Keyboard'\n",
      " '15.6\\u2009inches, 1920\\u2009x\\u20091080\\u2009pixels'\n",
      " 'Intel Iris Xe Graphics' '1 Year Warranty' 'Ubuntu OS' 'Windows 11  OS'\n",
      " 'Chrome OS' 'Unknown' 'Windows OS' 'DOS 3.0 OS' 'Windows 10  OS']\n",
      "----------------------------------------\n",
      "\n",
      "########################################\n",
      "Total unique values / Total number of records\n",
      "########################################\n",
      "17/920\n"
     ]
    }
   ],
   "source": [
    "\n",
    "print('All unique values in OS')\n",
    "\n",
    "print()\n",
    "print(df['OS'].unique())\n",
    "print('-'*40)\n",
    "print()\n",
    "print('#'*40)\n",
    "print('Total unique values / Total number of records')\n",
    "print('#'*40)\n",
    "print(f'''{df['OS'].nunique()}/{df['OS'].shape[0]}''')"
   ]
  },
  {
   "cell_type": "code",
   "execution_count": 264,
   "id": "b35a3de5",
   "metadata": {},
   "outputs": [
    {
     "name": "stdout",
     "output_type": "stream",
     "text": [
      "Original DataFrame - Row count: 920\n",
      "After deletion - Row count: 904\n"
     ]
    }
   ],
   "source": [
    "#Deletion of corrupted data in OS column    \n",
    "print(\"Original DataFrame - Row count:\", len(df))\n",
    "\n",
    "df = df[df['OS'] != 'Backlit Keyboard']\n",
    "df = df[df['OS'] != '15.6\\u2009inches, 1920\\u2009x\\u20091080\\u2009pixels']\n",
    "df = df[df['OS'] != '1 Year Warranty']\n",
    "df = df[df['OS'] != '2 Year Warranty']\n",
    "df = df[df['OS'] != 'Intel Iris Xe Graphics']\n",
    "\n",
    "print(\"After deletion - Row count:\", len(df))"
   ]
  },
  {
   "cell_type": "code",
   "execution_count": 265,
   "id": "9b40a1d7",
   "metadata": {},
   "outputs": [
    {
     "name": "stdout",
     "output_type": "stream",
     "text": [
      "All unique values in Warranty\n",
      "\n",
      "['1 Year Warranty' '2 Year Warranty' '3 Year Warranty' 'Backlit Keyboard'\n",
      " '1 USB 3.0 Ports' 'Unknown']\n",
      "----------------------------------------\n",
      "\n",
      "########################################\n",
      "Total unique values / Total number of records\n",
      "########################################\n",
      "6/904\n"
     ]
    }
   ],
   "source": [
    "\n",
    "print('All unique values in Warranty')\n",
    "\n",
    "print()\n",
    "print(df['Warranty'].unique())\n",
    "print('-'*40)\n",
    "print()\n",
    "print('#'*40)\n",
    "print('Total unique values / Total number of records')\n",
    "print('#'*40)\n",
    "print(f'''{df['Warranty'].nunique()}/{df['Warranty'].shape[0]}''')"
   ]
  },
  {
   "cell_type": "code",
   "execution_count": 266,
   "id": "10e171a2",
   "metadata": {},
   "outputs": [
    {
     "name": "stdout",
     "output_type": "stream",
     "text": [
      "Original DataFrame - Row count: 904\n",
      "After deletion - Row count: 897\n"
     ]
    }
   ],
   "source": [
    "#Deletion of corrupted data in warranty column\n",
    "print(\"Original DataFrame - Row count:\", len(df))\n",
    "\n",
    "df = df[df['Warranty'] != 'Backlit Keyboard']\n",
    "df = df[df['Warranty'] != '1 USB 3.0 Ports']\n",
    "\n",
    "print(\"After deletion - Row count:\", len(df))"
   ]
  },
  {
   "cell_type": "code",
   "execution_count": 267,
   "id": "cdaf1da6",
   "metadata": {},
   "outputs": [
    {
     "name": "stdout",
     "output_type": "stream",
     "text": [
      "Top 10 Brands:\n",
      " Brand\n",
      "Lenovo     211\n",
      "HP         175\n",
      "Asus       132\n",
      "Dell        95\n",
      "MSI         91\n",
      "Acer        70\n",
      "Others      64\n",
      "Samsung     21\n",
      "Infinix     20\n",
      "Apple       18\n",
      "Name: count, dtype: int64\n"
     ]
    }
   ],
   "source": [
    "import re\n",
    "\n",
    "# Extract simplified brand + model (first 3-4 words, drop extras)\n",
    "def simplify_model(text):\n",
    "    # Remove anything in parentheses\n",
    "    text = re.sub(r'\\(.*?\\)', '', str(text))\n",
    "    \n",
    "    # Remove noisy words like Gaming, Touch, Laptop, Notebook, etc.\n",
    "    text = re.sub(r'(?i)\\b(Gaming|Touch|Laptop|Notebook|Windows|Inches|cm|OS|Processor|with|Display)\\b', '', text)\n",
    "    \n",
    "    # Keep only the first 3 or 4 words\n",
    "    words = text.strip().split()\n",
    "    return ' '.join(words[:4])\n",
    "\n",
    "# creating a cleaner Model and Brand\n",
    "df['Model'] = df['Model'].apply(simplify_model)\n",
    "df['Brand'] = df['Model'].apply(lambda x: x.split()[0] if isinstance(x, str) else 'Unknown')\n",
    "\n",
    "# Group infrequent brands into 'Others'\n",
    "brand_counts = df['Brand'].value_counts()\n",
    "rare_brands = brand_counts[brand_counts < 15].index\n",
    "df['Brand'] = df['Brand'].replace(rare_brands, 'Others')\n",
    "\n",
    "# check top brands\n",
    "print(\"Top 10 Brands:\\n\", df['Brand'].value_counts())\n"
   ]
  },
  {
   "cell_type": "code",
   "execution_count": 268,
   "id": "6ab9da3b",
   "metadata": {},
   "outputs": [],
   "source": [
    "\n",
    "\n",
    "def group_generations(gen_str):\n",
    "    gen_str = str(gen_str).lower()\n",
    "    \n",
    "    # Intel 12th/13th Gen\n",
    "    if '12th gen intel' in gen_str or '13th gen intel' in gen_str:\n",
    "        return \"Intel 12th/13th Gen\"\n",
    "    \n",
    "    # Intel 11th Gen & older\n",
    "    if '11th gen intel' in gen_str or '10th gen intel' in gen_str:\n",
    "        return \"Intel 11th Gen & Below\"\n",
    "    \n",
    "    # AMD Ryzen 7000 Series\n",
    "    if '7th gen amd ryzen' in gen_str:\n",
    "        return \"AMD Ryzen 7000 Series\"\n",
    "    \n",
    "    # AMD Ryzen 5000 Series\n",
    "    if '5th gen amd ryzen' in gen_str:\n",
    "        return \"AMD Ryzen 5000 Series\"\n",
    "    \n",
    "    # Intel Core Ultra\n",
    "    if 'intel core ultra' in gen_str:\n",
    "        return \"Intel Core Ultra\"\n",
    "    \n",
    "    # Apple Silicon\n",
    "    if 'apple m' in gen_str:\n",
    "        return \"Apple Silicon\"\n",
    "    \n",
    "    return \"Others\"\n",
    "\n",
    "# Apply to DataFrame\n",
    "df['Generation'] = df['Generation'].apply(group_generations)"
   ]
  },
  {
   "cell_type": "code",
   "execution_count": 269,
   "id": "3de663fc",
   "metadata": {},
   "outputs": [
    {
     "data": {
      "text/plain": [
       "Core\n",
       "10-Core High-Perf        173\n",
       "6-Core Mainstream        159\n",
       "12-14 Core Power         148\n",
       "8-Core Performance        97\n",
       "4-Core Entry              95\n",
       "8-Core Hybrid (4P+4E)     77\n",
       "2-Core Entry              70\n",
       "16+ Core Extreme          65\n",
       "Others                    13\n",
       "Name: count, dtype: int64"
      ]
     },
     "execution_count": 269,
     "metadata": {},
     "output_type": "execute_result"
    }
   ],
   "source": [
    "def group_cores(core_str):\n",
    "    core_str = str(core_str)\n",
    "    \n",
    "    # Extract total core count\n",
    "    core_match = re.search(r'(\\d+)\\s*Cores?|(Dual|Quad|Hexa|Octa)\\s*Core', core_str, re.IGNORECASE)\n",
    "    if not core_match:\n",
    "        return \"Others\"\n",
    "    \n",
    "    # Convert textual cores to numbers\n",
    "    textual_map = {\"dual\":2, \"quad\":4, \"hexa\":6, \"octa\":8}\n",
    "    if core_match.group(1):\n",
    "        total_cores = int(core_match.group(1))\n",
    "    else:\n",
    "        total_cores = textual_map[core_match.group(2).lower()]\n",
    "\n",
    "    # Grouping logic\n",
    "    if total_cores == 2 or total_cores == 4:\n",
    "        return f\"{total_cores}-Core Entry\"\n",
    "    \n",
    "    if total_cores == 6:\n",
    "        return \"6-Core Mainstream\"\n",
    "    \n",
    "    if total_cores == 8:\n",
    "        if re.search(r'4P\\s*\\+\\s*4E', core_str):\n",
    "            return \"8-Core Hybrid (4P+4E)\"\n",
    "        return \"8-Core Performance\"\n",
    "    \n",
    "    if total_cores == 10:\n",
    "        return \"10-Core High-Perf\"\n",
    "    \n",
    "    if total_cores == 12 or total_cores == 14:\n",
    "        return \"12-14 Core Power\"\n",
    "    \n",
    "    if total_cores >= 16:\n",
    "        return \"16+ Core Extreme\"\n",
    "    \n",
    "    return \"Others\"\n",
    "\n",
    "# Apply to DataFrame\n",
    "df['Core'] = df['Core'].apply(group_cores)\n",
    "df['Core'].value_counts()"
   ]
  },
  {
   "cell_type": "code",
   "execution_count": 270,
   "id": "ce074e1c",
   "metadata": {},
   "outputs": [
    {
     "data": {
      "text/plain": [
       "Ram\n",
       "16 GB DDR5 RAM      245\n",
       "16 GB DDR4 RAM      221\n",
       "8 GB DDR4 RAM       203\n",
       "8 GB DDR5 RAM        73\n",
       "32 GB DDR5 RAM       58\n",
       "Others               49\n",
       "16 GB LPDDR4 RAM     29\n",
       "8 GB LPDDR4 RAM      19\n",
       "Name: count, dtype: int64"
      ]
     },
     "execution_count": 270,
     "metadata": {},
     "output_type": "execute_result"
    }
   ],
   "source": [
    "def normalize_ram(ram_str):\n",
    "    text = str(ram_str).upper()\n",
    "\n",
    "    # Find RAM size (e.g., '8', '16', etc.)\n",
    "    size = re.findall(r'\\d+', text)\n",
    "    if not size:\n",
    "        return 'Others'\n",
    "    \n",
    "    # Detect RAM type\n",
    "    if 'DDR5' in text:\n",
    "        ram_type = 'DDR5'\n",
    "    elif 'LPDDR5' in text:\n",
    "        ram_type = 'LPDDR5'\n",
    "    elif 'LPDDR4' in text:\n",
    "        ram_type = 'LPDDR4'\n",
    "    elif 'DDR4' in text:\n",
    "        ram_type = 'DDR4'\n",
    "    elif 'RAM' in text:\n",
    "        ram_type = ''  # fallback if just \"RAM\"\n",
    "    else:\n",
    "        return 'Others'\n",
    "    \n",
    "    return f\"{size[0]} GB {ram_type} RAM\" if ram_type else f\"{size[0]} GB RAM\"\n",
    "\n",
    "df['Ram'] = df['Ram'].apply(normalize_ram)\n",
    "\n",
    "# Replace rare types with 'Others'\n",
    "rare_rams = df['Ram'].value_counts()[df['Ram'].value_counts() < 15].index\n",
    "df['Ram'] = df['Ram'].replace(rare_rams, 'Others')\n",
    "\n",
    "df['Ram'].value_counts()\n"
   ]
  },
  {
   "cell_type": "code",
   "execution_count": 271,
   "id": "6d2517ed",
   "metadata": {},
   "outputs": [
    {
     "data": {
      "text/plain": [
       "SSD\n",
       "512 GB SSD    611\n",
       "1 TB SSD      215\n",
       "256 GB SSD     36\n",
       "Others         18\n",
       "2 TB SSD       17\n",
       "Name: count, dtype: int64"
      ]
     },
     "execution_count": 271,
     "metadata": {},
     "output_type": "execute_result"
    }
   ],
   "source": [
    "ssd_count = df['SSD'].value_counts()\n",
    "rare_ssd = ssd_count[ssd_count <= 15].index\n",
    "df['SSD'] = df['SSD'].replace(rare_ssd, 'Others')\n",
    "df['SSD'] = df['SSD'].replace(\"512 GB SSD\", \"512 GB\")\n",
    "df['SSD'] = df['SSD'].replace(\"1 TB SSD\", \"1 TB\")\n",
    "df['SSD'] = df['SSD'].replace(\"256 GB SSD\", \"256 GB\")\n",
    "df['SSD'] = df['SSD'].replace(\"2 TB SSD\", \"2 TB\")\n",
    "df['SSD'].value_counts()"
   ]
  },
  {
   "cell_type": "code",
   "execution_count": 272,
   "id": "bd82cf6d",
   "metadata": {},
   "outputs": [
    {
     "name": "stdout",
     "output_type": "stream",
     "text": [
      "Graphics\n",
      "NVIDIA GeForce RTX    298\n",
      "Intel Iris Xe         192\n",
      "Intel UHD             171\n",
      "AMD Radeon            112\n",
      "Others                 66\n",
      "Intel Integrated       38\n",
      "NVIDIA GeForce GTX     20\n",
      "Name: count, dtype: int64\n"
     ]
    }
   ],
   "source": [
    "def broad_graphics_category(name):\n",
    "    name = str(name).lower()\n",
    "    # Intel Iris Xe group\n",
    "    if re.search(r'iris[\\s\\-]*x[eé]?', name):\n",
    "        return \"Intel Iris Xe\"\n",
    "    # Intel UHD group\n",
    "    if re.search(r'uhd', name):\n",
    "        return \"Intel UHD\"\n",
    "    # Intel Integrated only (but not Iris or UHD)\n",
    "    if 'integrated' in name and not ('iris' in name or 'uhd' in name):\n",
    "        return \"Intel Integrated\"\n",
    "    # Intel HD\n",
    "    if 'hd graphics' in name or 'intel hd' in name:\n",
    "        return \"Intel HD\"\n",
    "    # AMD Radeon group\n",
    "    if 'radeon' in name:\n",
    "        return \"AMD Radeon\"\n",
    "    # NVIDIA GeForce RTX group\n",
    "    if 'rtx' in name:\n",
    "        return \"NVIDIA GeForce RTX\"\n",
    "    # NVIDIA GeForce GTX group\n",
    "    if 'gtx' in name:\n",
    "        return \"NVIDIA GeForce GTX\"\n",
    "    # NVIDIA Quadro group\n",
    "    if 'quadro' in name:\n",
    "        return \"NVIDIA Quadro\"\n",
    "    # Apple GPU\n",
    "    if 'apple' in name or 'm1' in name:\n",
    "        return \"Apple GPU\"\n",
    "    # ARM Mali\n",
    "    if 'mali' in name:\n",
    "        return \"ARM Mali\"\n",
    "    # Otherwise, keep as is or \"Others\"\n",
    "    return \"Others\"\n",
    "\n",
    "# 1. Apply broad grouping\n",
    "df['Graphics'] = df['Graphics'].apply(broad_graphics_category)\n",
    "\n",
    "# 2. Calculate counts per broad group\n",
    "counts = df['Graphics'].value_counts()\n",
    "\n",
    "# 3. Identify groups with <= 15 occurrences\n",
    "rare_groups = counts[counts <= 15].index\n",
    "\n",
    "# 4. Replace those rare groups with \"Others\"\n",
    "df['Graphics'] = df['Graphics'].apply(lambda x: 'Others' if x in rare_groups else x)\n",
    "\n",
    "# 5. Optional: See result\n",
    "print(df['Graphics'].value_counts())"
   ]
  },
  {
   "cell_type": "code",
   "execution_count": 273,
   "id": "18f74470",
   "metadata": {},
   "outputs": [
    {
     "name": "stdout",
     "output_type": "stream",
     "text": [
      "Display\n",
      "15.6 inches    436\n",
      "14 inches      208\n",
      "16 inches      128\n",
      "Others          58\n",
      "16.1 inches     25\n",
      "13.3 inches     22\n",
      "17.3 inches     20\n",
      "Name: count, dtype: int64\n"
     ]
    }
   ],
   "source": [
    "def extract_display_size(text):\n",
    "    # Lowercase, remove leading/trailing spaces\n",
    "    text = str(text).strip().lower()\n",
    "    # Regex to capture 'number(.number) inches' at the start\n",
    "    match = re.match(r'(\\d+(\\.\\d+)?)\\s*[\\u2009 ]*inches', text)\n",
    "    if match:\n",
    "        return match.group(1) + ' inches'\n",
    "    return 'Unknown'\n",
    "\n",
    "# 1. Apply the size extraction\n",
    "df['Display'] = df['Display'].apply(extract_display_size)\n",
    "\n",
    "# 2. Optional: Group rare sizes (≤15) into 'Others'\n",
    "size_counts = df['Display'].value_counts()\n",
    "rare_sizes = size_counts[size_counts <= 15].index\n",
    "df['Display'] = df['Display'].apply(lambda x: 'Others' if x in rare_sizes else x)\n",
    "\n",
    "# 3. View value counts:\n",
    "print(df['Display'].value_counts())"
   ]
  },
  {
   "cell_type": "code",
   "execution_count": 274,
   "id": "85b28c82",
   "metadata": {},
   "outputs": [
    {
     "data": {
      "text/plain": [
       "OS\n",
       "Windows 11 OS    830\n",
       "Others            49\n",
       "Mac OS            18\n",
       "Name: count, dtype: int64"
      ]
     },
     "execution_count": 274,
     "metadata": {},
     "output_type": "execute_result"
    }
   ],
   "source": [
    "df['OS'] = df['OS'].replace('15.6 inches, 1920 x 1080 pixels', 'Windows 11')\n",
    "df['OS'] = df['OS'].replace('Windows OS', 'Windows 11')\n",
    "df['OS'] = df['OS'].replace('Backlit Keyboard', 'Windows 11')\n",
    "df['OS'] = df['OS'].replace('Ubuntu OS', 'Windows 10')\n",
    "df['OS'] = df['OS'].replace('Intel Iris Xe Graphics', 'Windows 11')\n",
    "# In OS 1 Year warranty values drop \n",
    "df = df[df['OS'] != '1 Year Warranty']\n",
    "# if OS less than 15 or equal than 15 counts declear \"Others\"\n",
    "os_counts =  df['OS'].value_counts()\n",
    "replace_os = os_counts[os_counts <= 15].index\n",
    "df['OS'] = df['OS'].replace(replace_os, 'Others')\n",
    "df['OS'].value_counts()"
   ]
  },
  {
   "cell_type": "code",
   "execution_count": 275,
   "id": "5752403a",
   "metadata": {},
   "outputs": [
    {
     "data": {
      "text/plain": [
       "Warranty\n",
       "1 Year Warranty    806\n",
       "2 Year Warranty     74\n",
       "3 Year Warranty     16\n",
       "Unknown              1\n",
       "Name: count, dtype: int64"
      ]
     },
     "execution_count": 275,
     "metadata": {},
     "output_type": "execute_result"
    }
   ],
   "source": [
    "# In warranty columns Windows 11 OS values replace with 1 Year Warranty\n",
    "df['Warranty'] = df['Warranty'].replace('Windows 11 OS', '1 Year Warranty')\n",
    "df['Warranty'] = df['Warranty'].replace('1 USB 3.0 Ports', '1 Year Warranty')\n",
    "df['Warranty'] = df['Warranty'].replace('2 USB 3.0 Ports', '1 Year Warranty')\n",
    "df['Warranty'] = df['Warranty'].replace('Ports: 1 HDMI', '1 Year Warranty')\n",
    "df['Warranty'].value_counts()"
   ]
  },
  {
   "cell_type": "code",
   "execution_count": 290,
   "id": "bb7aa7db",
   "metadata": {},
   "outputs": [
    {
     "data": {
      "text/html": [
       "<div>\n",
       "<style scoped>\n",
       "    .dataframe tbody tr th:only-of-type {\n",
       "        vertical-align: middle;\n",
       "    }\n",
       "\n",
       "    .dataframe tbody tr th {\n",
       "        vertical-align: top;\n",
       "    }\n",
       "\n",
       "    .dataframe thead th {\n",
       "        text-align: right;\n",
       "    }\n",
       "</style>\n",
       "<table border=\"1\" class=\"dataframe\">\n",
       "  <thead>\n",
       "    <tr style=\"text-align: right;\">\n",
       "      <th></th>\n",
       "      <th>Model</th>\n",
       "      <th>Price</th>\n",
       "      <th>Rating</th>\n",
       "      <th>Generation</th>\n",
       "      <th>Core</th>\n",
       "      <th>Ram</th>\n",
       "      <th>SSD</th>\n",
       "      <th>Display</th>\n",
       "      <th>Graphics</th>\n",
       "      <th>OS</th>\n",
       "      <th>Warranty</th>\n",
       "      <th>price_float</th>\n",
       "      <th>warranty_int</th>\n",
       "      <th>Brand</th>\n",
       "    </tr>\n",
       "  </thead>\n",
       "  <tbody>\n",
       "    <tr>\n",
       "      <th>0</th>\n",
       "      <td>HP Victus 15-fb0157AX</td>\n",
       "      <td>₹50,399</td>\n",
       "      <td>0.689655</td>\n",
       "      <td>0</td>\n",
       "      <td>5</td>\n",
       "      <td>4</td>\n",
       "      <td>3</td>\n",
       "      <td>2</td>\n",
       "      <td>0</td>\n",
       "      <td>2</td>\n",
       "      <td>1 Year Warranty</td>\n",
       "      <td>0.082812</td>\n",
       "      <td>1</td>\n",
       "      <td>4</td>\n",
       "    </tr>\n",
       "    <tr>\n",
       "      <th>1</th>\n",
       "      <td>Tecno Megabook T1</td>\n",
       "      <td>₹23,990</td>\n",
       "      <td>0.206897</td>\n",
       "      <td>3</td>\n",
       "      <td>3</td>\n",
       "      <td>6</td>\n",
       "      <td>3</td>\n",
       "      <td>2</td>\n",
       "      <td>3</td>\n",
       "      <td>2</td>\n",
       "      <td>1 Year Warranty</td>\n",
       "      <td>0.031231</td>\n",
       "      <td>1</td>\n",
       "      <td>8</td>\n",
       "    </tr>\n",
       "    <tr>\n",
       "      <th>2</th>\n",
       "      <td>Lenovo V15 G4 ‎82YU00W7IN</td>\n",
       "      <td>₹26,989</td>\n",
       "      <td>0.172414</td>\n",
       "      <td>1</td>\n",
       "      <td>4</td>\n",
       "      <td>5</td>\n",
       "      <td>3</td>\n",
       "      <td>2</td>\n",
       "      <td>0</td>\n",
       "      <td>2</td>\n",
       "      <td>1 Year Warranty</td>\n",
       "      <td>0.037089</td>\n",
       "      <td>1</td>\n",
       "      <td>6</td>\n",
       "    </tr>\n",
       "    <tr>\n",
       "      <th>3</th>\n",
       "      <td>Samsung Galaxy Book2 Pro</td>\n",
       "      <td>₹69,990</td>\n",
       "      <td>0.344828</td>\n",
       "      <td>4</td>\n",
       "      <td>1</td>\n",
       "      <td>1</td>\n",
       "      <td>3</td>\n",
       "      <td>0</td>\n",
       "      <td>2</td>\n",
       "      <td>2</td>\n",
       "      <td>1 Year Warranty</td>\n",
       "      <td>0.121077</td>\n",
       "      <td>1</td>\n",
       "      <td>9</td>\n",
       "    </tr>\n",
       "    <tr>\n",
       "      <th>4</th>\n",
       "      <td>Xiaomi Redmi G Pro</td>\n",
       "      <td>₹1,02,990</td>\n",
       "      <td>0.965517</td>\n",
       "      <td>6</td>\n",
       "      <td>2</td>\n",
       "      <td>1</td>\n",
       "      <td>0</td>\n",
       "      <td>4</td>\n",
       "      <td>5</td>\n",
       "      <td>2</td>\n",
       "      <td>1 Year Warranty</td>\n",
       "      <td>0.185531</td>\n",
       "      <td>1</td>\n",
       "      <td>8</td>\n",
       "    </tr>\n",
       "  </tbody>\n",
       "</table>\n",
       "</div>"
      ],
      "text/plain": [
       "                       Model      Price    Rating  Generation  Core  Ram  SSD  \\\n",
       "0      HP Victus 15-fb0157AX    ₹50,399  0.689655           0     5    4    3   \n",
       "1          Tecno Megabook T1    ₹23,990  0.206897           3     3    6    3   \n",
       "2  Lenovo V15 G4 ‎82YU00W7IN    ₹26,989  0.172414           1     4    5    3   \n",
       "3   Samsung Galaxy Book2 Pro    ₹69,990  0.344828           4     1    1    3   \n",
       "4         Xiaomi Redmi G Pro  ₹1,02,990  0.965517           6     2    1    0   \n",
       "\n",
       "   Display  Graphics  OS         Warranty  price_float  warranty_int  Brand  \n",
       "0        2         0   2  1 Year Warranty     0.082812             1      4  \n",
       "1        2         3   2  1 Year Warranty     0.031231             1      8  \n",
       "2        2         0   2  1 Year Warranty     0.037089             1      6  \n",
       "3        0         2   2  1 Year Warranty     0.121077             1      9  \n",
       "4        4         5   2  1 Year Warranty     0.185531             1      8  "
      ]
     },
     "execution_count": 290,
     "metadata": {},
     "output_type": "execute_result"
    }
   ],
   "source": [
    "df.head()"
   ]
  },
  {
   "cell_type": "code",
   "execution_count": 299,
   "id": "7cac7d42",
   "metadata": {},
   "outputs": [
    {
     "data": {
      "text/html": [
       "<div>\n",
       "<style scoped>\n",
       "    .dataframe tbody tr th:only-of-type {\n",
       "        vertical-align: middle;\n",
       "    }\n",
       "\n",
       "    .dataframe tbody tr th {\n",
       "        vertical-align: top;\n",
       "    }\n",
       "\n",
       "    .dataframe thead th {\n",
       "        text-align: right;\n",
       "    }\n",
       "</style>\n",
       "<table border=\"1\" class=\"dataframe\">\n",
       "  <thead>\n",
       "    <tr style=\"text-align: right;\">\n",
       "      <th></th>\n",
       "      <th>Model</th>\n",
       "      <th>Price</th>\n",
       "      <th>Rating</th>\n",
       "      <th>Generation</th>\n",
       "      <th>Core</th>\n",
       "      <th>Ram</th>\n",
       "      <th>SSD</th>\n",
       "      <th>Display</th>\n",
       "      <th>Graphics</th>\n",
       "      <th>OS</th>\n",
       "      <th>Warranty</th>\n",
       "      <th>price_float</th>\n",
       "      <th>warranty_int</th>\n",
       "      <th>Brand</th>\n",
       "    </tr>\n",
       "  </thead>\n",
       "  <tbody>\n",
       "    <tr>\n",
       "      <th>258</th>\n",
       "      <td>MSI Prestige 16 AI</td>\n",
       "      <td>₹1,19,990</td>\n",
       "      <td>0.689655</td>\n",
       "      <td>5</td>\n",
       "      <td>2</td>\n",
       "      <td>1</td>\n",
       "      <td>0</td>\n",
       "      <td>3</td>\n",
       "      <td>1</td>\n",
       "      <td>2</td>\n",
       "      <td>2 Year Warranty</td>\n",
       "      <td>0.218735</td>\n",
       "      <td>2</td>\n",
       "      <td>7</td>\n",
       "    </tr>\n",
       "  </tbody>\n",
       "</table>\n",
       "</div>"
      ],
      "text/plain": [
       "                  Model      Price    Rating  Generation  Core  Ram  SSD  \\\n",
       "258  MSI Prestige 16 AI  ₹1,19,990  0.689655           5     2    1    0   \n",
       "\n",
       "     Display  Graphics  OS         Warranty  price_float  warranty_int  Brand  \n",
       "258        3         1   2  2 Year Warranty     0.218735             2      7  "
      ]
     },
     "execution_count": 299,
     "metadata": {},
     "output_type": "execute_result"
    }
   ],
   "source": [
    "df.sample()"
   ]
  },
  {
   "cell_type": "code",
   "execution_count": 278,
   "id": "6febb67f",
   "metadata": {},
   "outputs": [
    {
     "data": {
      "image/png": "[encoded data removed]",
      "text/plain": [
       "<Figure size 800x400 with 1 Axes>"
      ]
     },
     "metadata": {},
     "output_type": "display_data"
    },
    {
     "data": {
      "image/png": "[encoded data removed]",
      "text/plain": [
       "<Figure size 800x400 with 1 Axes>"
      ]
     },
     "metadata": {},
     "output_type": "display_data"
    },
    {
     "data": {
      "image/png": "[encoded data removed]",
      "text/plain": [
       "<Figure size 800x400 with 1 Axes>"
      ]
     },
     "metadata": {},
     "output_type": "display_data"
    }
   ],
   "source": [
    "#checks for any outliers    \n",
    "def show_plots(df):\n",
    "    for col in df.columns:\n",
    "        if df[col].dtype == 'int64' or df[col].dtype == 'float64':\n",
    "            plt.figure(figsize=(8,4))\n",
    "            sns.boxplot(data=df, x=df[col])\n",
    "            plt.title(f'Box Plot for {col}')\n",
    "            plt.show()         \n",
    "show_plots(df)"
   ]
  },
  {
   "cell_type": "code",
   "execution_count": 279,
   "id": "c1fd94a0",
   "metadata": {},
   "outputs": [
    {
     "name": "stdout",
     "output_type": "stream",
     "text": [
      "Ram\n",
      "32 GB DDR5 RAM      229075.810345\n",
      "Others              125928.448980\n",
      "16 GB DDR5 RAM      106036.359184\n",
      "16 GB DDR4 RAM       66849.131222\n",
      "16 GB LPDDR4 RAM     62100.965517\n",
      "8 GB DDR5 RAM        52742.397260\n",
      "8 GB DDR4 RAM        44546.492611\n",
      "8 GB LPDDR4 RAM      40680.526316\n",
      "Name: price_float, dtype: float64\n"
     ]
    },
    {
     "data": {
      "image/png": "[encoded data removed]",
      "text/plain": [
       "<Figure size 2000x600 with 1 Axes>"
      ]
     },
     "metadata": {},
     "output_type": "display_data"
    }
   ],
   "source": [
    "avg_price_by_ram = df.groupby('Ram')['price_float'].mean().sort_values(ascending=False)\n",
    "print(avg_price_by_ram)\n",
    "\n",
    "# Bar chart\n",
    "plt.figure(figsize=(20, 6))\n",
    "sns.barplot(x=avg_price_by_ram.index, y=avg_price_by_ram.values)\n",
    "plt.title('Average Price by RAM Size')\n",
    "plt.xlabel('RAM')\n",
    "plt.ylabel('Average Price (₹)')\n",
    "plt.xticks(rotation=45)\n",
    "plt.show()"
   ]
  },
  {
   "cell_type": "code",
   "execution_count": 280,
   "id": "67d9a96a",
   "metadata": {},
   "outputs": [
    {
     "data": {
      "image/png": "[encoded data removed]",
      "text/plain": [
       "<Figure size 1000x600 with 1 Axes>"
      ]
     },
     "metadata": {},
     "output_type": "display_data"
    }
   ],
   "source": [
    "plt.figure(figsize=(10, 6))\n",
    "sns.histplot(df['price_float'], kde=True, color='skyblue')\n",
    "plt.title('Laptop Price Distribution', fontsize=14)\n",
    "plt.xlabel('price_float')\n",
    "plt.show()"
   ]
  },
  {
   "cell_type": "code",
   "execution_count": 281,
   "id": "4afa4927",
   "metadata": {},
   "outputs": [
    {
     "data": {
      "image/png": "[encoded data removed]",
      "text/plain": [
       "<Figure size 1200x800 with 2 Axes>"
      ]
     },
     "metadata": {},
     "output_type": "display_data"
    }
   ],
   "source": [
    "# Selected numerical features\n",
    "num_features = df.select_dtypes(include=np.number).columns.tolist()\n",
    "\n",
    "plt.figure(figsize=(12, 8))\n",
    "sns.heatmap(df[num_features].corr(), annot=True, cmap='coolwarm')\n",
    "plt.title('Feature Correlation Matrix', fontsize=14)\n",
    "plt.show()"
   ]
  },
  {
   "cell_type": "code",
   "execution_count": 282,
   "id": "0fdc9283",
   "metadata": {},
   "outputs": [
    {
     "name": "stderr",
     "output_type": "stream",
     "text": [
      "C:\\Users\\junji\\AppData\\Local\\Temp\\ipykernel_2984\\1569707486.py:2: FutureWarning: \n",
      "\n",
      "Passing `palette` without assigning `hue` is deprecated and will be removed in v0.14.0. Assign the `x` variable to `hue` and set `legend=False` for the same effect.\n",
      "\n",
      "  sns.boxplot(x='Brand', y='price_float', data=df, palette='viridis')\n"
     ]
    },
    {
     "data": {
      "image/png": "[encoded data removed]",
      "text/plain": [
       "<Figure size 1400x600 with 1 Axes>"
      ]
     },
     "metadata": {},
     "output_type": "display_data"
    }
   ],
   "source": [
    "plt.figure(figsize=(14, 6))\n",
    "sns.boxplot(x='Brand', y='price_float', data=df, palette='viridis')\n",
    "plt.xticks(rotation=45)\n",
    "plt.title(' Price Distribution by Brand', fontsize=14)\n",
    "plt.show()"
   ]
  },
  {
   "cell_type": "code",
   "execution_count": 283,
   "id": "c9e44685",
   "metadata": {},
   "outputs": [
    {
     "data": {
      "text/html": [
       "<div>\n",
       "<style scoped>\n",
       "    .dataframe tbody tr th:only-of-type {\n",
       "        vertical-align: middle;\n",
       "    }\n",
       "\n",
       "    .dataframe tbody tr th {\n",
       "        vertical-align: top;\n",
       "    }\n",
       "\n",
       "    .dataframe thead th {\n",
       "        text-align: right;\n",
       "    }\n",
       "</style>\n",
       "<table border=\"1\" class=\"dataframe\">\n",
       "  <thead>\n",
       "    <tr style=\"text-align: right;\">\n",
       "      <th></th>\n",
       "      <th>Model</th>\n",
       "      <th>Price</th>\n",
       "      <th>Rating</th>\n",
       "      <th>Generation</th>\n",
       "      <th>Core</th>\n",
       "      <th>Ram</th>\n",
       "      <th>SSD</th>\n",
       "      <th>Display</th>\n",
       "      <th>Graphics</th>\n",
       "      <th>OS</th>\n",
       "      <th>Warranty</th>\n",
       "      <th>price_float</th>\n",
       "      <th>warranty_int</th>\n",
       "      <th>Brand</th>\n",
       "    </tr>\n",
       "  </thead>\n",
       "  <tbody>\n",
       "    <tr>\n",
       "      <th>0</th>\n",
       "      <td>HP Victus 15-fb0157AX</td>\n",
       "      <td>₹50,399</td>\n",
       "      <td>0.689655</td>\n",
       "      <td>0</td>\n",
       "      <td>5</td>\n",
       "      <td>4</td>\n",
       "      <td>3</td>\n",
       "      <td>2</td>\n",
       "      <td>0</td>\n",
       "      <td>2</td>\n",
       "      <td>1 Year Warranty</td>\n",
       "      <td>0.082812</td>\n",
       "      <td>1</td>\n",
       "      <td>4</td>\n",
       "    </tr>\n",
       "    <tr>\n",
       "      <th>1</th>\n",
       "      <td>Tecno Megabook T1</td>\n",
       "      <td>₹23,990</td>\n",
       "      <td>0.206897</td>\n",
       "      <td>3</td>\n",
       "      <td>3</td>\n",
       "      <td>6</td>\n",
       "      <td>3</td>\n",
       "      <td>2</td>\n",
       "      <td>3</td>\n",
       "      <td>2</td>\n",
       "      <td>1 Year Warranty</td>\n",
       "      <td>0.031231</td>\n",
       "      <td>1</td>\n",
       "      <td>8</td>\n",
       "    </tr>\n",
       "    <tr>\n",
       "      <th>2</th>\n",
       "      <td>Lenovo V15 G4 ‎82YU00W7IN</td>\n",
       "      <td>₹26,989</td>\n",
       "      <td>0.172414</td>\n",
       "      <td>1</td>\n",
       "      <td>4</td>\n",
       "      <td>5</td>\n",
       "      <td>3</td>\n",
       "      <td>2</td>\n",
       "      <td>0</td>\n",
       "      <td>2</td>\n",
       "      <td>1 Year Warranty</td>\n",
       "      <td>0.037089</td>\n",
       "      <td>1</td>\n",
       "      <td>6</td>\n",
       "    </tr>\n",
       "    <tr>\n",
       "      <th>3</th>\n",
       "      <td>Samsung Galaxy Book2 Pro</td>\n",
       "      <td>₹69,990</td>\n",
       "      <td>0.344828</td>\n",
       "      <td>4</td>\n",
       "      <td>1</td>\n",
       "      <td>1</td>\n",
       "      <td>3</td>\n",
       "      <td>0</td>\n",
       "      <td>2</td>\n",
       "      <td>2</td>\n",
       "      <td>1 Year Warranty</td>\n",
       "      <td>0.121077</td>\n",
       "      <td>1</td>\n",
       "      <td>9</td>\n",
       "    </tr>\n",
       "    <tr>\n",
       "      <th>4</th>\n",
       "      <td>Xiaomi Redmi G Pro</td>\n",
       "      <td>₹1,02,990</td>\n",
       "      <td>0.965517</td>\n",
       "      <td>6</td>\n",
       "      <td>2</td>\n",
       "      <td>1</td>\n",
       "      <td>0</td>\n",
       "      <td>4</td>\n",
       "      <td>5</td>\n",
       "      <td>2</td>\n",
       "      <td>1 Year Warranty</td>\n",
       "      <td>0.185531</td>\n",
       "      <td>1</td>\n",
       "      <td>8</td>\n",
       "    </tr>\n",
       "  </tbody>\n",
       "</table>\n",
       "</div>"
      ],
      "text/plain": [
       "                       Model      Price    Rating  Generation  Core  Ram  SSD  \\\n",
       "0      HP Victus 15-fb0157AX    ₹50,399  0.689655           0     5    4    3   \n",
       "1          Tecno Megabook T1    ₹23,990  0.206897           3     3    6    3   \n",
       "2  Lenovo V15 G4 ‎82YU00W7IN    ₹26,989  0.172414           1     4    5    3   \n",
       "3   Samsung Galaxy Book2 Pro    ₹69,990  0.344828           4     1    1    3   \n",
       "4         Xiaomi Redmi G Pro  ₹1,02,990  0.965517           6     2    1    0   \n",
       "\n",
       "   Display  Graphics  OS         Warranty  price_float  warranty_int  Brand  \n",
       "0        2         0   2  1 Year Warranty     0.082812             1      4  \n",
       "1        2         3   2  1 Year Warranty     0.031231             1      8  \n",
       "2        2         0   2  1 Year Warranty     0.037089             1      6  \n",
       "3        0         2   2  1 Year Warranty     0.121077             1      9  \n",
       "4        4         5   2  1 Year Warranty     0.185531             1      8  "
      ]
     },
     "execution_count": 283,
     "metadata": {},
     "output_type": "execute_result"
    }
   ],
   "source": [
    "label_encoder = LabelEncoder()\n",
    "df['Generation'] = label_encoder.fit_transform(df['Generation'])\n",
    "df['Core'] = label_encoder.fit_transform(df['Core'])\n",
    "df['Ram'] = label_encoder.fit_transform(df['Ram'])\n",
    "df['SSD'] = label_encoder.fit_transform(df['SSD'])\n",
    "df['Display'] = label_encoder.fit_transform(df['Display'])\n",
    "df['Graphics'] = label_encoder.fit_transform(df['Graphics'])\n",
    "df['OS'] = label_encoder.fit_transform(df['OS'])\n",
    "df['Brand'] = label_encoder.fit_transform(df['Brand'])\n",
    "\n",
    "sc = StandardScaler()\n",
    "min_max_scaler = MinMaxScaler()\n",
    "df['price_float'] = min_max_scaler.fit_transform(df[['price_float']])\n",
    "df['Rating'] = min_max_scaler.fit_transform(df[['Rating']])\n",
    "df.head(5)\n"
   ]
  },
  {
   "cell_type": "code",
   "execution_count": 284,
   "id": "afdf67f5",
   "metadata": {},
   "outputs": [
    {
     "name": "stdout",
     "output_type": "stream",
     "text": [
      "Fitting 5 folds for each of 1 candidates, totalling 5 fits\n",
      "Tuned Decision Tree Regressor performance:\n",
      "RMSE: 0.08\n",
      "R2: 0.6762\n"
     ]
    }
   ],
   "source": [
    "X = df.drop(['Model', 'Brand', 'Price', 'price_float', 'Warranty'], axis=1)\n",
    "y = df['price_float']  \n",
    "\n",
    "X_train, X_test, y_train, y_test = train_test_split(X, y, test_size=0.2, random_state=42)\n",
    "\n",
    "# Define the model\n",
    "dt = DecisionTreeRegressor(random_state=42)\n",
    "\n",
    "# Define hyperparameter grid to search\n",
    "param_grid = {\n",
    "    'max_depth': [20],\n",
    "    'min_samples_split': [5],\n",
    "    'min_samples_leaf': [5],\n",
    "    'max_features': [None]\n",
    "}\n",
    "\n",
    "# Setup GridSearchCV\n",
    "grid_search = GridSearchCV(\n",
    "    estimator=dt,\n",
    "    param_grid=param_grid,\n",
    "    cv=5,                  # 5-fold cross-validation\n",
    "    scoring='neg_mean_squared_error',\n",
    "    n_jobs=-1,\n",
    "    verbose=1\n",
    ")\n",
    "\n",
    "# Fit GridSearch to find best params\n",
    "grid_search.fit(X_train, y_train)\n",
    "\n",
    "# Use best estimator to predict\n",
    "best_dt = grid_search.best_estimator_\n",
    "y_pred = best_dt.predict(X_test)\n",
    "\n",
    "# Evaluate performance\n",
    "mse = mean_squared_error(y_test, y_pred)\n",
    "rmse = np.sqrt(mse)\n",
    "r2 = r2_score(y_test, y_pred)\n",
    "\n",
    "print(f\"Tuned Decision Tree Regressor performance:\")\n",
    "print(f\"RMSE: {rmse:.2f}\")\n",
    "print(f\"R2: {r2:.4f}\")"
   ]
  },
  {
   "cell_type": "code",
   "execution_count": 285,
   "id": "08331067",
   "metadata": {},
   "outputs": [
    {
     "name": "stdout",
     "output_type": "stream",
     "text": [
      "       Actual  Predicted\n",
      "342  0.053712   0.033184\n",
      "656  0.085920   0.093814\n",
      "337  0.154671   0.127838\n",
      "869  0.322252   0.248687\n",
      "39   0.050001   0.046716\n",
      "338  0.095685   0.071019\n",
      "387  0.187484   0.149501\n",
      "346  1.000000   0.467615\n",
      "216  0.219711   0.165068\n",
      "141  0.035137   0.035640\n"
     ]
    }
   ],
   "source": [
    "df_result = pd.DataFrame({'Actual': y_test, 'Predicted': y_pred})\n",
    "print(df_result.head(10))"
   ]
  },
  {
   "cell_type": "code",
   "execution_count": 313,
   "id": "02d51a12",
   "metadata": {},
   "outputs": [
    {
     "name": "stdout",
     "output_type": "stream",
     "text": [
      "Random Forest performance:\n",
      "RMSE: 0.07\n",
      "R2: 0.7486\n"
     ]
    }
   ],
   "source": [
    "\n",
    "param_grid = {\n",
    "    'n_estimators': [100, 200],\n",
    "    'max_depth': [10, 20, None],\n",
    "    'min_samples_split': [2, 5],\n",
    "    'min_samples_leaf': [1, 2],\n",
    "    'max_features': ['sqrt', 'log2']\n",
    "}\n",
    "\n",
    "rf = RandomForestRegressor(random_state=42, n_jobs=-1)\n",
    "grid_search = GridSearchCV(estimator=rf, param_grid=param_grid, \n",
    "                           cv=5, scoring='neg_mean_squared_error',\n",
    "                           n_jobs=-1, verbose=1)\n",
    "\n",
    "rf.fit(X_train, y_train)\n",
    "\n",
    "y_pred_rf = rf.predict(X_test)\n",
    "\n",
    "mse_rf = mean_squared_error(y_test, y_pred_rf)\n",
    "rmse_rf = np.sqrt(mse_rf)\n",
    "r2_rf = r2_score(y_test, y_pred_rf)\n",
    "\n",
    "print(f\"Random Forest performance:\")\n",
    "print(f\"RMSE: {rmse_rf:.2f}\")\n",
    "print(f\"R2: {r2_rf:.4f}\")"
   ]
  },
  {
   "cell_type": "code",
   "execution_count": 312,
   "id": "8a77d10f",
   "metadata": {},
   "outputs": [
    {
     "name": "stdout",
     "output_type": "stream",
     "text": [
      "       Actual  Predicted\n",
      "342  0.053712   0.042347\n",
      "656  0.085920   0.102850\n",
      "337  0.154671   0.178301\n",
      "869  0.322252   0.303187\n",
      "39   0.050001   0.072522\n",
      "338  0.095685   0.070002\n",
      "387  0.187484   0.159240\n",
      "346  1.000000   0.381577\n",
      "216  0.219711   0.156045\n",
      "141  0.035137   0.033298\n"
     ]
    }
   ],
   "source": [
    "df_result_rf = pd.DataFrame({'Actual': y_test, 'Predicted': y_pred_rf})\n",
    "print(df_result_rf.head(10))"
   ]
  },
  {
   "cell_type": "code",
   "execution_count": 300,
   "id": "8067ced9",
   "metadata": {},
   "outputs": [
    {
     "name": "stdout",
     "output_type": "stream",
     "text": [
      "Fitting 5 folds for each of 16 candidates, totalling 80 fits\n",
      "Gradient Boosting performance:\n",
      "RMSE: 0.07\n",
      "R2: 0.7950\n"
     ]
    }
   ],
   "source": [
    "from sklearn.ensemble import GradientBoostingRegressor\n",
    "\n",
    "param_grid = {\n",
    "    'n_estimators': [100, 150],\n",
    "    'learning_rate': [0.05, 0.1],\n",
    "    'max_depth': [3, 5],\n",
    "    'subsample': [0.8, 1.0]\n",
    "}\n",
    "\n",
    "gb = GradientBoostingRegressor(random_state=42)\n",
    "\n",
    "grid_search = GridSearchCV(\n",
    "    estimator=gb,\n",
    "    param_grid=param_grid,\n",
    "    cv=5,\n",
    "    scoring='neg_mean_squared_error',\n",
    "    n_jobs=-1,\n",
    "    verbose=1\n",
    ")\n",
    "\n",
    "grid_search.fit(X_train, y_train)\n",
    "best_gb = grid_search.best_estimator_\n",
    "y_pred = best_gb.predict(X_test)\n",
    "\n",
    "\n",
    "mse_gb = mean_squared_error(y_test, y_pred)\n",
    "rmse_gb = np.sqrt(mse_gb)\n",
    "r2_gb = r2_score(y_test, y_pred)\n",
    "\n",
    "print(f\"Gradient Boosting performance:\")\n",
    "print(f\"RMSE: {rmse_gb:.2f}\")\n",
    "print(f\"R2: {r2_gb:.4f}\")"
   ]
  },
  {
   "cell_type": "code",
   "execution_count": 305,
   "id": "af201a68",
   "metadata": {},
   "outputs": [
    {
     "data": {
      "image/png": "[encoded data removed]",
      "text/plain": [
       "<Figure size 800x600 with 1 Axes>"
      ]
     },
     "metadata": {},
     "output_type": "display_data"
    }
   ],
   "source": [
    "import matplotlib.pyplot as plt\n",
    "import seaborn as sns\n",
    "\n",
    "df_result = pd.DataFrame({\n",
    "    'Actual': y_test,\n",
    "    'Predicted': y_pred\n",
    "}).reset_index(drop=True)\n",
    "\n",
    "# Actual vs Predicted\n",
    "plt.figure(figsize=(8,6))\n",
    "sns.scatterplot(x='Actual', y='Predicted', data=df_result, alpha=0.6)\n",
    "\n",
    "max_val = max(df_result['Actual'].max(), df_result['Predicted'].max())\n",
    "plt.plot([0, max_val], [0, max_val], color='red', linestyle='--')\n",
    "\n",
    "plt.title('Actual vs Predicted Price (Gradient Boosting)')\n",
    "plt.xlabel('Actual Price')\n",
    "plt.ylabel('Predicted Price')\n",
    "plt.grid(True)\n",
    "plt.show()\n"
   ]
  }
 ],
 "metadata": {
  "kernelspec": {
   "display_name": "mldp",
   "language": "python",
   "name": "python3"
  },
  "language_info": {
   "codemirror_mode": {
    "name": "ipython",
    "version": 3
   },
   "file_extension": ".py",
   "mimetype": "text/x-python",
   "name": "python",
   "nbconvert_exporter": "python",
   "pygments_lexer": "ipython3",
   "version": "3.12.0"
  }
 },
 "nbformat": 4,
 "nbformat_minor": 5
}
